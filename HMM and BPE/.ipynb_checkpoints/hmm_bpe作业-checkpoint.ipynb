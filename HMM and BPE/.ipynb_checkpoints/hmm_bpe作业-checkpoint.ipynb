{
 "cells": [
  {
   "cell_type": "markdown",
   "id": "0a7a16ed",
   "metadata": {},
   "source": [
    "## 任务一：HMM模型用于中文分词"
   ]
  },
  {
   "cell_type": "markdown",
   "id": "030d9a94",
   "metadata": {},
   "source": [
    "任务一评分标准：\n",
    "1. 共有8处TODO需要填写，每个TODO计1-2分，共9分，预计代码量30行；\n",
    "2. 允许自行修改、编写代码完成，对于该情况，请补充注释以便于评分，否则结果不正确将导致较多的扣分；\n",
    "3. 实验报告(python)/用于说明实验的文字块(jupyter notebook)不额外计分，但不写会导致扣分。\n",
    "\n",
    "注：本任务仅在短句子上进行效果测试，因此对概率的计算可直接进行连乘。在实践中，常先对概率取对数，将连乘变为加法来计算，以避免出现数值溢出的情况。"
   ]
  },
  {
   "cell_type": "markdown",
   "id": "f7d77db9",
   "metadata": {},
   "source": [
    "导入HMM参数，初始化所需的起始概率矩阵，转移概率矩阵，发射概率矩阵"
   ]
  },
  {
   "cell_type": "code",
   "execution_count": 1,
   "id": "b36e0db8",
   "metadata": {},
   "outputs": [],
   "source": [
    "import pickle\n",
    "import numpy as np"
   ]
  },
  {
   "cell_type": "code",
   "execution_count": 2,
   "id": "0d25beba",
   "metadata": {},
   "outputs": [],
   "source": [
    "with open(\"hmm_parameters.pkl\", \"rb\") as f:\n",
    "    hmm_parameters = pickle.load(f)\n",
    "\n",
    "# 非断字（B）为第0行，断字（I）为第1行\n",
    "# 发射概率矩阵中，词典大小为65536，以汉字的ord作为行key\n",
    "start_probability = hmm_parameters[\"start_prob\"]  # shape(2,)\n",
    "trans_matrix = hmm_parameters[\"trans_mat\"]  # shape(2, 2)\n",
    "emission_matrix = hmm_parameters[\"emission_mat\"]  # shape(2, 65536)"
   ]
  },
  {
   "cell_type": "markdown",
   "id": "f7070152",
   "metadata": {},
   "source": [
    "定义待处理的句子"
   ]
  },
  {
   "cell_type": "code",
   "execution_count": 3,
   "id": "87219e30",
   "metadata": {},
   "outputs": [],
   "source": [
    "# TODO: 将input_sentence中的xxx替换为你的姓名（1分）\n",
    "input_sentence = \"魏来是一名优秀的学生\"\n"
   ]
  },
  {
   "cell_type": "markdown",
   "id": "1035cbc7",
   "metadata": {},
   "source": [
    "实现viterbi算法，并以此进行中文分词"
   ]
  },
  {
   "cell_type": "markdown",
   "id": "2bf8e168",
   "metadata": {},
   "source": [
    "对于viterbi算法：首先将汉字转为数字表示；'dp'用来储存不同位置每种隐状态（B/I）下，到该位置为止的句子的概率；计算初始位置的概率：$P(h_i)*P(v_1|h_i)$；计算其余位置的概率:对词序列遍历的时候，每个词进行两次对tag的遍历，计算每个位置的概率，即对vt中的$h_i$: 求$max(left*P(h_i|left_{tag})P(v_t|h_i))$；'labels'用来存储每个位置最有可能的状态：先找到最优路径的最后一个词的tag，回溯，找到每个词最可能对应的tag，根据之前记录的path回溯找出最优路径上的每个状态（tag）。"
   ]
  },
  {
   "cell_type": "code",
   "execution_count": 4,
   "id": "1adac849",
   "metadata": {},
   "outputs": [],
   "source": [
    "def viterbi(sent_orig, start_prob, trans_mat, emission_mat):\n",
    "    \"\"\"\n",
    "    viterbi算法进行中文分词\n",
    "\n",
    "    Args:\n",
    "        sent_orig: str - 输入的句子\n",
    "        start_prob: numpy.ndarray - 起始概率矩阵\n",
    "        trans_mat: numpy.ndarray - 转移概率矩阵\n",
    "        emission_mat: numpy.ndarray - 发射概率矩阵\n",
    "\n",
    "    Return:\n",
    "        str - 中文分词的结果\n",
    "    \"\"\"\n",
    "    \n",
    "    #  将汉字转为数字表示\n",
    "    sent_ord = [ord(x) for x in sent_orig]\n",
    "    \n",
    "    # `dp`用来储存不同位置每种标注（B/I）的最大概率值\n",
    "    dp = np.zeros((2, len(sent_ord)), dtype=float)\n",
    "    \n",
    "    # `path`用来储存最大概率对应的上步B/I选择\n",
    "    #  例如 path[1][7] == 1 意味着第8个（从1开始计数）字符标注I对应的最大概率，其前一步的隐状态为1（I）\n",
    "    #  例如 path[0][5] == 1 意味着第6个字符标注B对应的最大概率，其前一步的隐状态为1（I）\n",
    "    #  例如 path[1][1] == 0 意味着第2个字符标注I对应的最大概率，其前一步的隐状态为0（B）\n",
    "    path = np.zeros((2, len(sent_ord)), dtype=int)\n",
    "    \n",
    "    #  TODO: 第一个位置的最大概率值计算（1分）\n",
    "    # 第一个位置即为P(hi)*P(v1|hi)\n",
    "    for i in range(2):\n",
    "        dp[i][0] = start_probability[i] * emission_mat[i][sent_ord[0]]\n",
    "    \n",
    "    #  TODO: 其余位置的最大概率值计算（填充dp和path矩阵）（2分）\n",
    "    # 对vt中的hi: 求max(left*P(hi|left_tag)P(vt|hi))\n",
    "    # 即进行两次对tag的遍历，计算每个位置的概率同时记录每个状态来自于前面哪个状态(N*S^2)\n",
    "    for i, ch in enumerate(sent_ord[1:]): # 对词序列遍历（N）\n",
    "        for s in range(2):\n",
    "            (prob, last_state) = max([(dp[ls, i] * trans_mat[ls][s] * emission_mat[s][ch] ,ls)  for ls in range(2)]) # 动态规划\n",
    "            dp[s][i+1] = prob # 记录概率\n",
    "            path[s][i+1] = last_state # 记录路径\n",
    "    \n",
    "    #  `labels`用来储存每个位置最有可能的隐状态\n",
    "    labels = [0 for _ in range(len(sent_ord))]\n",
    "    \n",
    "    #  TODO：计算labels每个位置上的值（填充labels矩阵）（1分）\n",
    "    (end_prob, state) = max([(dp[s][len(sent_ord)-1], s) for s in range(2)]) # 找到最优路径的最后一个词的tag\n",
    "    labels[len(sent_ord)-1] = state\n",
    "    for i in range(len(sent_ord) - 1, 0, -1): # 回溯，找到每个词最可能对应的tag\n",
    "        state = path[state][i] #根据之前记录的path回溯找出最优路径上的每个状态（tag）\n",
    "        labels[i-1] = state\n",
    "    \n",
    "    #  根据lalels生成切分好的字符串\n",
    "    sent_split = []\n",
    "    for idx, label in enumerate(labels):\n",
    "        if label == 1:\n",
    "            sent_split += [sent_ord[idx], ord(\"/\")]\n",
    "        else:\n",
    "            sent_split += [sent_ord[idx]]\n",
    "    sent_split_str = \"\".join([chr(x) for x in sent_split])\n",
    "\n",
    "    return sent_split_str\n",
    "            "
   ]
  },
  {
   "cell_type": "code",
   "execution_count": 5,
   "id": "d795414b",
   "metadata": {},
   "outputs": [
    {
     "name": "stdout",
     "output_type": "stream",
     "text": [
      "viterbi算法分词结果： 魏来/是/一名/优秀/的/学生/\n"
     ]
    }
   ],
   "source": [
    "print(\"viterbi算法分词结果：\", viterbi(input_sentence, start_probability, trans_matrix, emission_matrix))"
   ]
  },
  {
   "cell_type": "markdown",
   "id": "399b8d1a",
   "metadata": {},
   "source": [
    "**viterbi算法分词结果： 魏来/是/一名/优秀/的/学生/**"
   ]
  },
  {
   "cell_type": "markdown",
   "id": "60fcafdb",
   "metadata": {},
   "source": [
    "实现前向算法，计算该句子的概率值"
   ]
  },
  {
   "cell_type": "markdown",
   "id": "81463a8b",
   "metadata": {},
   "source": [
    "对于前向算法：首先将汉字转为数字表示；'dp'用来储存不同位置每种隐状态（B/I）下，到该位置为止的句子的概率；与viterbi算法一样计算初始位置的概率；计算其余位置的概率时，思路与viterbi算法一样（对词序列遍历的时候，每个词进行两次对tag的遍历，计算每个位置的概率），只是将max改为sum，并且不用记录每一步的状态。"
   ]
  },
  {
   "cell_type": "code",
   "execution_count": 6,
   "id": "cf6796a1",
   "metadata": {},
   "outputs": [],
   "source": [
    "def compute_prob_by_forward(sent_orig, start_prob, trans_mat, emission_mat):\n",
    "    \"\"\"\n",
    "    前向算法，计算输入中文句子的概率值\n",
    "\n",
    "    Args:\n",
    "        sent_orig: str - 输入的句子\n",
    "        start_prob: numpy.ndarray - 起始概率矩阵\n",
    "        trans_mat: numpy.ndarray - 转移概率矩阵\n",
    "        emission_mat: numpy.ndarray - 发射概率矩阵\n",
    "\n",
    "    Return:\n",
    "        float - 概率值\n",
    "    \"\"\"\n",
    "    \n",
    "    #  将汉字转为数字表示\n",
    "    sent_ord = [ord(x) for x in sent_orig]\n",
    "\n",
    "    # `dp`用来储存不同位置每种隐状态（B/I）下，到该位置为止的句子的概率\n",
    "    dp = np.zeros((2, len(sent_ord)), dtype=float)\n",
    "\n",
    "    # TODO: 初始位置概率的计算（1分）\n",
    "    # 与viterbi一样\n",
    "    for i in range(2):\n",
    "        dp[i][0] = start_probability[i] * emission_mat[i][sent_ord[0]]\n",
    "    \n",
    "    # TODO: 先计算其余位置的概率（填充dp矩阵），然后return概率值（1分）\n",
    "    # 思路与viterbi一样，只是max改成sum，并且不用记录每一步的状态\n",
    "    for i, ch in enumerate(sent_ord[1:]): # 对词序列遍历（N）\n",
    "        for s in range(2):\n",
    "            dp[s][i+1] = sum(dp[ls, i] * trans_mat[ls][s] * emission_mat[s][ch] for ls in range(2)) #进行两次对tag的遍历，计算每个位置的概率（S^2）\n",
    "\n",
    "    return sum([dp[i][len(sent_ord)-1] for i in range(2)])"
   ]
  },
  {
   "cell_type": "markdown",
   "id": "59533cd8",
   "metadata": {},
   "source": [
    "实现后向算法，计算该句子的概率值"
   ]
  },
  {
   "cell_type": "markdown",
   "id": "5eee6403",
   "metadata": {},
   "source": [
    "对于后向算法：首先将汉字转为数字表示；'dp'用来储存不同位置每种隐状态（B/I）下，到该位置为止的句子的概率；与viterbi算法一样计算初始位置的概率；计算其余位置的概率时，思路与前向算法相似（对词序列遍历的时候，每个词进行两次对tag的遍历，计算每个位置的概率），不同的地方是：对$v_t$中的$h_i$: 求$sum(right*P(right_{tag}|h_i))P(v_{t+1}|right_{tag}))$。"
   ]
  },
  {
   "cell_type": "code",
   "execution_count": 7,
   "id": "1e898306",
   "metadata": {},
   "outputs": [],
   "source": [
    "def compute_prob_by_backward(sent_orig, start_prob, trans_mat, emission_mat):\n",
    "    \"\"\"\n",
    "    后向算法，计算输入中文句子的概率值\n",
    "\n",
    "    Args:\n",
    "        sent_orig: str - 输入的句子\n",
    "        start_prob: numpy.ndarray - 起始概率矩阵\n",
    "        trans_mat: numpy.ndarray - 转移概率矩阵\n",
    "        emission_mat: numpy.ndarray - 发射概率矩阵\n",
    "\n",
    "    Return:\n",
    "        float - 概率值\n",
    "    \"\"\"\n",
    "    \n",
    "    #  将汉字转为数字表示\n",
    "    sent_ord = [ord(x) for x in sent_orig]\n",
    "\n",
    "    # `dp`用来储存不同位置每种隐状态（B/I）下，从结尾到该位置为止的句子的概率\n",
    "    dp = np.zeros((2, len(sent_ord)), dtype=float)\n",
    "\n",
    "    # TODO: 终末位置概率的初始化（1分）\n",
    "    # 最后一个词的beta记为1\n",
    "    n = len(sent_ord) - 1\n",
    "    for i in range(2):\n",
    "        dp[i][n] = 1\n",
    "    \n",
    "    # TODO: 先计算其余位置的概率（填充dp矩阵），然后return概率值（1分）\n",
    "    # 对vt中的hi: 求sum(right*P(right_tag|hi))P(vt+1|right_tag))\n",
    "    sent_ord.reverse()\n",
    "    for i, ch in enumerate(sent_ord[0:-1]): #对词序列逆序遍历（N）\n",
    "        for s in range(2):\n",
    "            dp[s][n-i-1] = sum(dp[ls, n-i] * trans_mat[s][ls] * emission_mat[ls][ch] for ls in range(2)) #进行两次对tag的遍历，计算每个位置的概率（S^2）\n",
    "    sent_ord.reverse()\n",
    "    return sum([dp[i][0] * start_prob[i] * emission_mat[i][sent_ord[0]] for i in range(2)])"
   ]
  },
  {
   "cell_type": "code",
   "execution_count": 8,
   "id": "b26101d0",
   "metadata": {},
   "outputs": [
    {
     "name": "stdout",
     "output_type": "stream",
     "text": [
      "前向算法概率： 2.555201114823419e-29\n",
      "后向算法概率： 2.5552011148234187e-29\n"
     ]
    }
   ],
   "source": [
    "print(\"前向算法概率：\", compute_prob_by_forward(input_sentence, start_probability, trans_matrix, emission_matrix))\n",
    "print(\"后向算法概率：\", compute_prob_by_backward(input_sentence, start_probability, trans_matrix, emission_matrix))"
   ]
  },
  {
   "cell_type": "markdown",
   "id": "1a3748cd",
   "metadata": {},
   "source": [
    "\n",
    "前向算法概率： 2.555201114823419e-29\n",
    "\n",
    "后向算法概率： 2.5552011148234187e-29\n"
   ]
  },
  {
   "cell_type": "markdown",
   "id": "e994be6e",
   "metadata": {},
   "source": [
    "## 任务二：BPE算法用于英文分词"
   ]
  },
  {
   "cell_type": "markdown",
   "id": "c1cc4775",
   "metadata": {},
   "source": [
    "任务二评分标准：\n",
    "\n",
    "1. 共有7处TODO需要填写，每个TODO计1-2分，共9分，预计代码量50行；\n",
    "2. 允许自行修改、编写代码完成，对于该情况，请补充注释以便于评分，否则结果不正确将导致较多的扣分；\n",
    "3. 实验报告(python)/用于说明实验的文字块(jupyter notebook)不额外计分，但不写会导致扣分。"
   ]
  },
  {
   "cell_type": "markdown",
   "id": "0fb5dbb9",
   "metadata": {},
   "source": [
    "构建空格分词器，将语料中的句子以空格切分成单词，然后将单词拆分成字母加`</w>`的形式。例如`apple`将变为`a p p l e </w>`。"
   ]
  },
  {
   "cell_type": "code",
   "execution_count": 9,
   "id": "70e10703",
   "metadata": {},
   "outputs": [],
   "source": [
    "import re\n",
    "import functools"
   ]
  },
  {
   "cell_type": "code",
   "execution_count": 10,
   "id": "d6c3667a",
   "metadata": {},
   "outputs": [],
   "source": [
    "_splitor_pattern = re.compile(r\"[^a-zA-Z']+|(?=')\")\n",
    "_digit_pattern = re.compile(r\"\\d+\")\n",
    "\n",
    "def white_space_tokenize(corpus):\n",
    "    \"\"\"\n",
    "    先正则化（字母转小写、数字转为N、除去标点符号），然后以空格分词语料中的句子，例如：\n",
    "    输入 corpus=[\"I am happy.\", \"I have 10 apples!\"]，\n",
    "    得到 [[\"i\", \"am\", \"happy\"], [\"i\", \"have\", \"N\", \"apples\"]]\n",
    "\n",
    "    Args:\n",
    "        corpus: List[str] - 待处理的语料\n",
    "\n",
    "    Return:\n",
    "        List[List[str]] - 二维List，内部的List由每个句子的单词str构成\n",
    "    \"\"\"\n",
    "\n",
    "    tokeneds = [list(\n",
    "        filter(lambda tkn: len(tkn)>0, _splitor_pattern.split(_digit_pattern.sub(\"N\", stc.lower())))) for stc in corpus\n",
    "    ]\n",
    "    \n",
    "    return tokeneds"
   ]
  },
  {
   "cell_type": "markdown",
   "id": "3732502a",
   "metadata": {},
   "source": [
    "编写相应函数构建BPE算法需要用到的初始状态词典"
   ]
  },
  {
   "cell_type": "markdown",
   "id": "f7b79b00",
   "metadata": {},
   "source": [
    "对每个句子中每个单词单独处理：将单词的每个字母以空格隔开，结尾加上<\\/w>，以此构建带频数的字典（表中有该单词则词频增加，没有则创立新的键值对）"
   ]
  },
  {
   "cell_type": "code",
   "execution_count": 11,
   "id": "7bf823e2",
   "metadata": {},
   "outputs": [],
   "source": [
    "def build_bpe_vocab(corpus):\n",
    "    \"\"\"\n",
    "    将语料进行white_space_tokenize处理后，将单词每个字母以空格隔开、结尾加上</w>后，构建带频数的字典，例如：\n",
    "    输入 corpus=[\"I am happy.\", \"I have 10 apples!\"]，\n",
    "    得到\n",
    "    {\n",
    "        'i </w>': 2,\n",
    "        'a m </w>': 1,\n",
    "        'h a p p y </w>': 1,\n",
    "        'h a v e </w>': 1,\n",
    "        'N </w>': 1,\n",
    "        'a p p l e s </w>': 1\n",
    "     }\n",
    "\n",
    "    Args:\n",
    "        corpus: List[str] - 待处理的语料\n",
    "\n",
    "    Return:\n",
    "        Dict[str, int] - \"单词分词状态->频数\"的词典\n",
    "    \"\"\"\n",
    "\n",
    "    tokenized_corpus = white_space_tokenize(corpus)\n",
    "\n",
    "    bpe_vocab = dict()\n",
    "    \n",
    "    # TODO: 完成函数体（1分）\n",
    "    # 对每个句子中的每个词单独处理🙂\n",
    "    for se in tokenized_corpus:\n",
    "        for word in se:\n",
    "            ch = \" \".join(word) # 将单词每个字母以空格隔开\n",
    "            ch += ' </w>' # 结尾加上</w>\n",
    "            if ch in bpe_vocab:\n",
    "                bpe_vocab[ch] += 1 # 构建带频数的字典（表中有该单词则词频增加，没有则创立新的键值对）\n",
    "            else:\n",
    "                bpe_vocab[ch] = 1\n",
    "\n",
    "    return bpe_vocab"
   ]
  },
  {
   "cell_type": "markdown",
   "id": "b1d25245",
   "metadata": {},
   "source": [
    "编写所需的其他函数"
   ]
  },
  {
   "cell_type": "markdown",
   "id": "9eaa013e",
   "metadata": {},
   "source": [
    "遍历词表的每个词、词频时：先将每个以空格隔开的字符存入列表，对每个词进行字母两两组合，填入新的bigram词表（表中有bigram则词频增加，没有则创立新的键值对）"
   ]
  },
  {
   "cell_type": "code",
   "execution_count": 12,
   "id": "087d11e2",
   "metadata": {},
   "outputs": [],
   "source": [
    "def get_bigram_freq(bpe_vocab):\n",
    "    \"\"\"\n",
    "    统计\"单词分词状态->频数\"的词典中，各bigram的频次（假设该词典中，各个unigram以空格间隔），例如：\n",
    "    输入 bpe_vocab=\n",
    "    {\n",
    "        'i </w>': 2,\n",
    "        'a m </w>': 1,\n",
    "        'h a p p y </w>': 1,\n",
    "        'h a v e </w>': 1,\n",
    "        'N </w>': 1,\n",
    "        'a p p l e s </w>': 1\n",
    "    }\n",
    "    得到\n",
    "    {\n",
    "        ('i', '</w>'): 2,\n",
    "        ('a', 'm'): 1,\n",
    "        ('m', '</w>'): 1,\n",
    "        ('h', 'a'): 2,\n",
    "        ('a', 'p'): 2,\n",
    "        ('p', 'p'): 2,\n",
    "        ('p', 'y'): 1,\n",
    "        ('y', '</w>'): 1,\n",
    "        ('a', 'v'): 1,\n",
    "        ('v', 'e'): 1,\n",
    "        ('e', '</w>'): 1,\n",
    "        ('N', '</w>'): 1,\n",
    "        ('p', 'l'): 1,\n",
    "        ('l', 'e'): 1,\n",
    "        ('e', 's'): 1,\n",
    "        ('s', '</w>'): 1\n",
    "    }\n",
    "\n",
    "    Args:\n",
    "        bpe_vocab: Dict[str, int] - \"单词分词状态->频数\"的词典\n",
    "\n",
    "    Return:\n",
    "        Dict[Tuple(str, str), int] - \"bigram->频数\"的词典\n",
    "    \"\"\"\n",
    "\n",
    "    bigram_freq = dict()\n",
    "    \n",
    "    # TODO: 完成函数体（1分）\n",
    "    for ch, fr in bpe_vocab.items(): #遍历词表的每个词、词频\n",
    "        word = ch.split() #先将每个以空格隔开的字符存入列表\n",
    "        for i in range(1, len(word)):\n",
    "            if tuple(word[i-1:i+1]) in bigram_freq: #对每个词进行字母两两组合\n",
    "                bigram_freq[tuple(word[i - 1:i + 1])] += fr #填入新的bigram词表（表中有bigram则词频增加，没有则创立新的键值对）\n",
    "            else:\n",
    "                bigram_freq[tuple(word[i - 1:i + 1])] = fr\n",
    "\n",
    "    return bigram_freq"
   ]
  },
  {
   "cell_type": "markdown",
   "id": "ce8d5277",
   "metadata": {},
   "source": [
    "将bigram元组改为以空格为间的字符串；遍历旧词表的每个词、词频时：若bigram匹配上了某个词，找到bigram在词中的起始位和结束位，合并bigram（即去掉对应的相邻unigram之间的空格）；若未匹配，则直接录入"
   ]
  },
  {
   "cell_type": "code",
   "execution_count": 13,
   "id": "ba426043",
   "metadata": {},
   "outputs": [],
   "source": [
    "def refresh_bpe_vocab_by_merging_bigram(bigram, old_bpe_vocab):\n",
    "    \"\"\"\n",
    "    在\"单词分词状态->频数\"的词典中，合并指定的bigram（即去掉对应的相邻unigram之间的空格），最后返回新的词典，例如：\n",
    "    输入 bigram=('i', '</w>')，old_bpe_vocab=\n",
    "    {\n",
    "        'i </w>': 2,\n",
    "        'a m </w>': 1,\n",
    "        'h a p p y </w>': 1,\n",
    "        'h a v e </w>': 1,\n",
    "        'N </w>': 1,\n",
    "        'a p p l e s </w>': 1\n",
    "    }\n",
    "    得到\n",
    "    {\n",
    "        'i</w>': 2,\n",
    "        'a m </w>': 1,\n",
    "        'h a p p y </w>': 1,\n",
    "        'h a v e </w>': 1,\n",
    "        'N </w>': 1,\n",
    "        'a p p l e s </w>': 1\n",
    "    }\n",
    "\n",
    "    Args:\n",
    "        old_bpe_vocab: Dict[str, int] - 初始\"单词分词状态->频数\"的词典\n",
    "\n",
    "    Return:\n",
    "        Dict[str, int] - 合并后的\"单词分词状态->频数\"的词典\n",
    "    \"\"\"\n",
    "    \n",
    "    new_bpe_vocab = dict()\n",
    "\n",
    "    # TODO: 完成函数体（1分）\n",
    "    word = \" \".join(bigram) #将bigram元组改为以空格为间的字符串\n",
    "    for ch, fr in old_bpe_vocab.items(): # 遍历旧词表的每个词、词频\n",
    "        if word in ch: # bigram匹配上了某个词\n",
    "            lft = ch.index(word) #找到bigram在词中的起始位\n",
    "            rht = lft + len(word) #找到bigram在词中的结束位\n",
    "            new_bpe_vocab[ch[0:lft] + \"\".join(bigram) + ch[rht:]] = fr #合并bigram（即去掉对应的相邻unigram之间的空格）\n",
    "        else:\n",
    "            new_bpe_vocab[ch] = fr #bigram未匹配，则直接录入\n",
    "    \n",
    "    return new_bpe_vocab"
   ]
  },
  {
   "cell_type": "markdown",
   "id": "1fdac1bf",
   "metadata": {},
   "source": [
    "先创建一个字典作为临时存储：将每个以空格隔开的字符存入列表再进行遍历，往字典里存入字符、字频（表中有该字符则字频增加，没有则创立新的键值对）。将统计好的字典输入列表，将该列表按照分词长度排序返回（'\\</w>'计为一个长度），最后再改为降序"
   ]
  },
  {
   "cell_type": "code",
   "execution_count": 14,
   "id": "992438a1",
   "metadata": {},
   "outputs": [],
   "source": [
    "def get_bpe_tokens(bpe_vocab):\n",
    "    \"\"\"\n",
    "    根据\"单词分词状态->频数\"的词典，返回所得到的BPE分词列表，并将该列表按照分词长度降序排序返回，例如：\n",
    "    输入 bpe_vocab=\n",
    "    {\n",
    "        'i</w>': 2,\n",
    "        'a m </w>': 1,\n",
    "        'ha pp y </w>': 1,\n",
    "        'ha v e </w>': 1,\n",
    "        'N </w>': 1,\n",
    "        'a pp l e s </w>': 1\n",
    "    }\n",
    "    得到\n",
    "    [\n",
    "        ('i</w>', 2),\n",
    "        ('ha', 2),\n",
    "        ('pp', 2),\n",
    "        ('a', 2),\n",
    "        ('m', 1),\n",
    "        ('</w>', 5),\n",
    "        ('y', 1),\n",
    "        ('v', 1),\n",
    "        ('e', 2),\n",
    "        ('N', 1),\n",
    "        ('l', 1),\n",
    "        ('s', 1)\n",
    "     ]\n",
    "\n",
    "    Args:\n",
    "        bpe_vocab: Dict[str, int] - \"单词分词状态->频数\"的词典\n",
    "\n",
    "    Return:\n",
    "        List[Tuple(str, int)] - BPE分词和对应频数组成的List\n",
    "    \"\"\"\n",
    "    \n",
    "    # TODO: 完成函数体（2分）\n",
    "    bpe_token = dict() #创建字典临时存储\n",
    "    for ch, fr in bpe_vocab.items():\n",
    "        word = ch.split() #先将每个以空格隔开的字符存入列表\n",
    "        for gram in word: #遍历字符\n",
    "            if gram in bpe_token:\n",
    "                bpe_token[gram] += fr # 存入字符、字频（表中有该字符则字频增加，没有则创立新的键值对）\n",
    "            else:\n",
    "                bpe_token[gram] = fr\n",
    "    bpe_tokens = []\n",
    "    for ch, fr in bpe_token.items(): #将统计好的字典输入列表\n",
    "        bpe_tokens.append((ch, fr))\n",
    "    # 将该列表按照分词长度排序返回（'</w>'计为一个长度）\n",
    "    bpe_tokens = sorted(bpe_tokens, key=lambda pair: len(pair[0]) if '</w>' not in pair[0] else len(pair[0]) - 3)\n",
    "    bpe_tokens.reverse() #改为降序\n",
    "\n",
    "    return bpe_tokens"
   ]
  },
  {
   "cell_type": "markdown",
   "id": "b40b79cd",
   "metadata": {},
   "source": [
    "在递归函数中：先确定递归结束条件，即为剩余部分长度为0和剩余部分无法匹配(用\"\\<unknown>\"代替)；在函数主体部分，先遍历bpe分词列表，若成功匹配，则找出bpe分词在单词中的起始位与结束位，再对该子串左右剩余部分递归地进行下一轮匹配。"
   ]
  },
  {
   "cell_type": "code",
   "execution_count": 15,
   "id": "3c56995e",
   "metadata": {},
   "outputs": [],
   "source": [
    "def print_bpe_tokenize(word, bpe_tokens):\n",
    "    \"\"\"\n",
    "    根据按长度降序的BPE分词列表，将所给单词进行BPE分词，最后打印结果。\n",
    "    \n",
    "    思想是，对于一个待BPE分词的单词，按照长度顺序从列表中寻找BPE分词进行子串匹配，\n",
    "    若成功匹配，则对该子串左右的剩余部分递归地进行下一轮匹配，直到剩余部分长度为0，\n",
    "    或者剩余部分无法匹配（该部分整体由\"<unknown>\"代替）\n",
    "    \n",
    "    例1：\n",
    "    输入 word=\"supermarket\", bpe_tokens=[\n",
    "        (\"su\", 20),\n",
    "        (\"are\", 10),\n",
    "        (\"per\", 30),\n",
    "    ]\n",
    "    最终打印 \"su per <unknown>\"\n",
    "\n",
    "    例2：\n",
    "    输入 word=\"shanghai\", bpe_tokens=[\n",
    "        (\"hai\", 1),\n",
    "        (\"sh\", 1),\n",
    "        (\"an\", 1),\n",
    "        (\"</w>\", 1),\n",
    "        (\"g\", 1)\n",
    "    ]\n",
    "    最终打印 \"sh an g hai </w>\"\n",
    "\n",
    "    Args:\n",
    "        word: str - 待分词的单词str\n",
    "        bpe_tokens: List[Tuple(str, int)] - BPE分词和对应频数组成的List\n",
    "    \"\"\"\n",
    "    \n",
    "    # TODO: 请尝试使用递归函数定义该分词过程（2分）\n",
    "    def bpe_tokenize(sub_word):\n",
    "        if len(sub_word) == 0: #递归结束条件：剩余部分长度为0\n",
    "            return \"\"\n",
    "        for i, pair in enumerate(bpe_tokens): #遍历bpe分词列表\n",
    "            if pair[0] in sub_word: #成功匹配\n",
    "                lft = sub_word.index(pair[0]) #找出bpe分词在单词中的起始位\n",
    "                rht = lft + len(pair[0]) #找出bpe分词在单词中的结束位\n",
    "                return bpe_tokenize(sub_word[0:lft]) + pair[0] + \" \" + bpe_tokenize(sub_word[rht:]) #对该子串左右的剩余部分递归地进行下一轮匹配\n",
    "            else:\n",
    "                if i == len(bpe_tokens) - 1: #递归结束条件：剩余部分无法匹配（该部分整体由\"<unknown>\"代替）\n",
    "                    return \"<unknown>\" + \" \"\n",
    "        return \"\"\n",
    "\n",
    "    res = bpe_tokenize(word+\"</w>\")\n",
    "    print(res)"
   ]
  },
  {
   "cell_type": "markdown",
   "id": "ecd70402",
   "metadata": {},
   "source": [
    "开始读取数据集并训练BPE分词器"
   ]
  },
  {
   "cell_type": "code",
   "execution_count": 16,
   "id": "215b56d5",
   "metadata": {},
   "outputs": [
    {
     "name": "stdout",
     "output_type": "stream",
     "text": [
      "Loaded training corpus.\n"
     ]
    }
   ],
   "source": [
    "with open(\"data/news.2007.en.shuffled.deduped.train\", encoding=\"utf-8\") as f:\n",
    "    training_corpus = list(map(lambda l: l.strip(), f.readlines()[:1000]))\n",
    "\n",
    "print(\"Loaded training corpus.\")"
   ]
  },
  {
   "cell_type": "markdown",
   "id": "6b5d16e9",
   "metadata": {},
   "source": [
    "训练过程中，先创建bigram词表，再从中找出最常见的一个bigram，将该bigram捏合成新的token，构成新词表，循环300次"
   ]
  },
  {
   "cell_type": "code",
   "execution_count": 17,
   "id": "7bccd41d",
   "metadata": {},
   "outputs": [],
   "source": [
    "training_iter_num = 300\n",
    "\n",
    "training_bpe_vocab = build_bpe_vocab(training_corpus)\n",
    "for i in range(training_iter_num):\n",
    "    # TODO: 完成训练循环内的代码逻辑（2分）\n",
    "    bigram_freq = get_bigram_freq(training_bpe_vocab) #创建bigram词表\n",
    "    max_key = max(bigram_freq, key=bigram_freq.get) #找到bigram词表中最常见的一个bigram\n",
    "    training_bpe_vocab = refresh_bpe_vocab_by_merging_bigram(max_key, training_bpe_vocab) #将最常见的bigram捏合成新的token，构成新词表\n",
    "\n",
    "training_bpe_tokens = get_bpe_tokens(training_bpe_vocab)"
   ]
  },
  {
   "cell_type": "markdown",
   "id": "78ea3ddd",
   "metadata": {},
   "source": [
    "测试BPE分词器的分词效果"
   ]
  },
  {
   "cell_type": "code",
   "execution_count": 18,
   "id": "c0cfdb29",
   "metadata": {},
   "outputs": [
    {
     "name": "stdout",
     "output_type": "stream",
     "text": [
      "naturallanguageprocessing 的分词结果为：\n",
      "n atur al lan gu age pro ce s sing</w> \n"
     ]
    }
   ],
   "source": [
    "test_word = \"naturallanguageprocessing\"\n",
    "\n",
    "print(\"naturallanguageprocessing 的分词结果为：\")\n",
    "print_bpe_tokenize(test_word, training_bpe_tokens)"
   ]
  },
  {
   "cell_type": "markdown",
   "id": "1f269fb9",
   "metadata": {},
   "source": [
    "测试结果： n atur al lan gu age pro ce s sing<\\/w> "
   ]
  }
 ],
 "metadata": {
  "kernelspec": {
   "display_name": "Python 3 (ipykernel)",
   "language": "python",
   "name": "python3"
  },
  "language_info": {
   "codemirror_mode": {
    "name": "ipython",
    "version": 3
   },
   "file_extension": ".py",
   "mimetype": "text/x-python",
   "name": "python",
   "nbconvert_exporter": "python",
   "pygments_lexer": "ipython3",
   "version": "3.9.7"
  }
 },
 "nbformat": 4,
 "nbformat_minor": 5
}
